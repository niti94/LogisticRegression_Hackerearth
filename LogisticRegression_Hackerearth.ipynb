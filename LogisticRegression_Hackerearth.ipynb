{
  "nbformat": 4,
  "nbformat_minor": 0,
  "metadata": {
    "colab": {
      "name": "Untitled2.ipynb",
      "version": "0.3.2",
      "provenance": []
    },
    "kernelspec": {
      "name": "python3",
      "display_name": "Python 3"
    }
  },
  "cells": [
    {
      "cell_type": "code",
      "metadata": {
        "id": "t1S9sQjjUmGx",
        "colab_type": "code",
        "colab": {
          "base_uri": "https://localhost:8080/",
          "height": 581
        },
        "outputId": "22862219-ede8-4231-c419-242332b4af9d"
      },
      "source": [
        "import numpy as np\n",
        "import pandas as pd\n",
        "from scipy.sparse import coo_matrix, hstack\n",
        "train_df=pd.read_csv(\"train.csv\")\n",
        "test_df = pd.read_csv(\"test.csv\")\n",
        "\n",
        "train_df.head()"
      ],
      "execution_count": 82,
      "outputs": [
        {
          "output_type": "execute_result",
          "data": {
            "text/html": [
              "<div>\n",
              "<style scoped>\n",
              "    .dataframe tbody tr th:only-of-type {\n",
              "        vertical-align: middle;\n",
              "    }\n",
              "\n",
              "    .dataframe tbody tr th {\n",
              "        vertical-align: top;\n",
              "    }\n",
              "\n",
              "    .dataframe thead th {\n",
              "        text-align: right;\n",
              "    }\n",
              "</style>\n",
              "<table border=\"1\" class=\"dataframe\">\n",
              "  <thead>\n",
              "    <tr style=\"text-align: right;\">\n",
              "      <th></th>\n",
              "      <th>ID</th>\n",
              "      <th>Place</th>\n",
              "      <th>location</th>\n",
              "      <th>date</th>\n",
              "      <th>status</th>\n",
              "      <th>job_title</th>\n",
              "      <th>summary</th>\n",
              "      <th>positives</th>\n",
              "      <th>negatives</th>\n",
              "      <th>advice_to_mgmt</th>\n",
              "      <th>score_1</th>\n",
              "      <th>score_2</th>\n",
              "      <th>score_3</th>\n",
              "      <th>score_4</th>\n",
              "      <th>score_5</th>\n",
              "      <th>score_6</th>\n",
              "      <th>overall</th>\n",
              "    </tr>\n",
              "  </thead>\n",
              "  <tbody>\n",
              "    <tr>\n",
              "      <th>0</th>\n",
              "      <td>1</td>\n",
              "      <td>startup_1</td>\n",
              "      <td>NaN</td>\n",
              "      <td>Dec 11, 2018</td>\n",
              "      <td>Current Employee</td>\n",
              "      <td>Anonymous Employee</td>\n",
              "      <td>Best Company to work for</td>\n",
              "      <td>People are smart and friendly</td>\n",
              "      <td>Bureaucracy is slowing things down</td>\n",
              "      <td>NaN</td>\n",
              "      <td>4.0</td>\n",
              "      <td>5.0</td>\n",
              "      <td>5.0</td>\n",
              "      <td>4.0</td>\n",
              "      <td>5.0</td>\n",
              "      <td>0</td>\n",
              "      <td>5.0</td>\n",
              "    </tr>\n",
              "    <tr>\n",
              "      <th>1</th>\n",
              "      <td>2</td>\n",
              "      <td>startup_1</td>\n",
              "      <td>Mountain View, CA</td>\n",
              "      <td>Jun 21, 2013</td>\n",
              "      <td>Former Employee</td>\n",
              "      <td>Program Manager</td>\n",
              "      <td>Moving at the speed of light, burn out is inev...</td>\n",
              "      <td>1) Food, food, food. 15+ cafes on main campus ...</td>\n",
              "      <td>1) Work/life balance. What balance? All those ...</td>\n",
              "      <td>1) Don't dismiss emotional intelligence and ad...</td>\n",
              "      <td>2.0</td>\n",
              "      <td>3.0</td>\n",
              "      <td>3.0</td>\n",
              "      <td>5.0</td>\n",
              "      <td>3.0</td>\n",
              "      <td>2094</td>\n",
              "      <td>5.0</td>\n",
              "    </tr>\n",
              "    <tr>\n",
              "      <th>2</th>\n",
              "      <td>3</td>\n",
              "      <td>startup_1</td>\n",
              "      <td>New York, NY</td>\n",
              "      <td>May 10, 2014</td>\n",
              "      <td>Current Employee</td>\n",
              "      <td>Software Engineer III</td>\n",
              "      <td>Great balance between big-company security and...</td>\n",
              "      <td>* If you're a software engineer, you're among ...</td>\n",
              "      <td>* It *is* becoming larger, and with it comes g...</td>\n",
              "      <td>Keep the focus on the user. Everything else wi...</td>\n",
              "      <td>5.0</td>\n",
              "      <td>4.0</td>\n",
              "      <td>5.0</td>\n",
              "      <td>5.0</td>\n",
              "      <td>4.0</td>\n",
              "      <td>949</td>\n",
              "      <td>5.0</td>\n",
              "    </tr>\n",
              "    <tr>\n",
              "      <th>3</th>\n",
              "      <td>4</td>\n",
              "      <td>startup_1</td>\n",
              "      <td>Mountain View, CA</td>\n",
              "      <td>Feb 8, 2015</td>\n",
              "      <td>Current Employee</td>\n",
              "      <td>Anonymous Employee</td>\n",
              "      <td>The best place I've worked and also the most d...</td>\n",
              "      <td>You can't find a more well-regarded company th...</td>\n",
              "      <td>I live in SF so the commute can take between 1...</td>\n",
              "      <td>Keep on NOT micromanaging - that is a huge ben...</td>\n",
              "      <td>2.0</td>\n",
              "      <td>5.0</td>\n",
              "      <td>5.0</td>\n",
              "      <td>4.0</td>\n",
              "      <td>5.0</td>\n",
              "      <td>498</td>\n",
              "      <td>4.0</td>\n",
              "    </tr>\n",
              "    <tr>\n",
              "      <th>4</th>\n",
              "      <td>10</td>\n",
              "      <td>startup_1</td>\n",
              "      <td>NaN</td>\n",
              "      <td>Dec 9, 2018</td>\n",
              "      <td>Current Employee</td>\n",
              "      <td>Anonymous Employee</td>\n",
              "      <td>Execellent for engineers</td>\n",
              "      <td>Impact driven. Best tech in the world.</td>\n",
              "      <td>Size matters. Engineers are a bit disconnected...</td>\n",
              "      <td>NaN</td>\n",
              "      <td>5.0</td>\n",
              "      <td>5.0</td>\n",
              "      <td>5.0</td>\n",
              "      <td>5.0</td>\n",
              "      <td>5.0</td>\n",
              "      <td>0</td>\n",
              "      <td>4.0</td>\n",
              "    </tr>\n",
              "  </tbody>\n",
              "</table>\n",
              "</div>"
            ],
            "text/plain": [
              "   ID      Place           location  ... score_5 score_6 overall\n",
              "0   1  startup_1                NaN  ...     5.0       0     5.0\n",
              "1   2  startup_1  Mountain View, CA  ...     3.0    2094     5.0\n",
              "2   3  startup_1       New York, NY  ...     4.0     949     5.0\n",
              "3   4  startup_1  Mountain View, CA  ...     5.0     498     4.0\n",
              "4  10  startup_1                NaN  ...     5.0       0     4.0\n",
              "\n",
              "[5 rows x 17 columns]"
            ]
          },
          "metadata": {
            "tags": []
          },
          "execution_count": 82
        }
      ]
    },
    {
      "cell_type": "code",
      "metadata": {
        "id": "Jls5WhTmUs-h",
        "colab_type": "code",
        "colab": {}
      },
      "source": [
        "from sklearn.feature_extraction.text import TfidfVectorizer"
      ],
      "execution_count": 0,
      "outputs": []
    },
    {
      "cell_type": "code",
      "metadata": {
        "id": "QX4N_hkbkXRo",
        "colab_type": "code",
        "colab": {}
      },
      "source": [
        "\n",
        "for col in train_df:\n",
        "  dt=train_df[col].dtype\n",
        "  if dt==float or dt==int:\n",
        "      train_df[col].fillna(-999,inplace=True)\n",
        "  else:\n",
        "      train_df[col].replace(np.nan, \"\", regex=True,inplace=True)\n",
        "      \n",
        "for col in test_df:\n",
        "  dt=test_df[col].dtype\n",
        "  if dt==float or dt==int:\n",
        "      test_df[col].fillna(-999,inplace=True)\n",
        "  else:\n",
        "      test_df[col].replace(np.nan, \"\", regex=True,inplace=True)"
      ],
      "execution_count": 0,
      "outputs": []
    },
    {
      "cell_type": "code",
      "metadata": {
        "id": "mXgPRU8Lujiy",
        "colab_type": "code",
        "colab": {
          "base_uri": "https://localhost:8080/",
          "height": 136
        },
        "outputId": "45db53c2-4619-44e6-8851-131e852a1ab3"
      },
      "source": [
        "v = TfidfVectorizer()\n",
        "v.fit(pd.concat([train_df.positives,test_df.positives]))"
      ],
      "execution_count": 85,
      "outputs": [
        {
          "output_type": "execute_result",
          "data": {
            "text/plain": [
              "TfidfVectorizer(analyzer='word', binary=False, decode_error='strict',\n",
              "                dtype=<class 'numpy.float64'>, encoding='utf-8',\n",
              "                input='content', lowercase=True, max_df=1.0, max_features=None,\n",
              "                min_df=1, ngram_range=(1, 1), norm='l2', preprocessor=None,\n",
              "                smooth_idf=True, stop_words=None, strip_accents=None,\n",
              "                sublinear_tf=False, token_pattern='(?u)\\\\b\\\\w\\\\w+\\\\b',\n",
              "                tokenizer=None, use_idf=True, vocabulary=None)"
            ]
          },
          "metadata": {
            "tags": []
          },
          "execution_count": 85
        }
      ]
    },
    {
      "cell_type": "code",
      "metadata": {
        "id": "ychRpSn6lAhW",
        "colab_type": "code",
        "colab": {
          "base_uri": "https://localhost:8080/",
          "height": 85
        },
        "outputId": "988282ff-1592-4e23-a9bf-a7aba97612f0"
      },
      "source": [
        "positive_mat = v.transform(train_df['positives'])\n",
        "negative_mat = v.transform(train_df['negatives'])\n",
        "advice_to_mgmt_mat = v.transform(train_df['advice_to_mgmt'])\n",
        "print(positive_mat.shape)\n",
        "print(negative_mat.shape)\n",
        "print(advice_to_mgmt_mat.shape)\n",
        "\n",
        "\n",
        "mat=hstack([positive_mat,negative_mat,advice_to_mgmt_mat])\n",
        "print(mat.shape)\n",
        "\n"
      ],
      "execution_count": 86,
      "outputs": [
        {
          "output_type": "stream",
          "text": [
            "(30336, 18935)\n",
            "(30336, 18935)\n",
            "(30336, 18935)\n",
            "(30336, 56805)\n"
          ],
          "name": "stdout"
        }
      ]
    },
    {
      "cell_type": "code",
      "metadata": {
        "id": "PoWa06Vzr5XO",
        "colab_type": "code",
        "colab": {
          "base_uri": "https://localhost:8080/",
          "height": 34
        },
        "outputId": "5f746055-0790-45a4-e635-fcee66ebe512"
      },
      "source": [
        "from sklearn.linear_model import LogisticRegression\n",
        "from sklearn import svm\n",
        "from sklearn.neighbors import KNeighborsClassifier\n",
        "clf = LogisticRegression()\n",
        "X=mat\n",
        "y=train_df.overall\n",
        "clf.fit(X,y)\n",
        "clf.score(X,y)\n",
        "clf.predict(X)"
      ],
      "execution_count": 87,
      "outputs": [
        {
          "output_type": "execute_result",
          "data": {
            "text/plain": [
              "MultinomialNB(alpha=1.0, class_prior=None, fit_prior=True)"
            ]
          },
          "metadata": {
            "tags": []
          },
          "execution_count": 87
        }
      ]
    },
    {
      "cell_type": "code",
      "metadata": {
        "id": "zxp4UzsBq7Dx",
        "colab_type": "code",
        "colab": {
          "base_uri": "https://localhost:8080/",
          "height": 85
        },
        "outputId": "8118d196-fb76-4868-f716-b6551086ac15"
      },
      "source": [
        "\n",
        "positive_mat = v.transform(test_df['positives'])\n",
        "\n",
        "negative_mat = v.transform(test_df['negatives'])\n",
        "\n",
        "advice_to_mgmt_mat = v.transform(test_df['advice_to_mgmt'])\n",
        "print(positive_mat.shape)\n",
        "print(negative_mat.shape)\n",
        "print(advice_to_mgmt_mat.shape)\n",
        "\n",
        "\n",
        "mat=hstack([positive_mat,negative_mat,advice_to_mgmt_mat])\n",
        "print(mat.shape)"
      ],
      "execution_count": 88,
      "outputs": [
        {
          "output_type": "stream",
          "text": [
            "(29272, 18935)\n",
            "(29272, 18935)\n",
            "(29272, 18935)\n",
            "(29272, 56805)\n"
          ],
          "name": "stdout"
        }
      ]
    },
    {
      "cell_type": "code",
      "metadata": {
        "id": "UQhRmC_FtD6A",
        "colab_type": "code",
        "colab": {}
      },
      "source": [
        "test_df['overall']=clf.predict(mat)"
      ],
      "execution_count": 0,
      "outputs": []
    },
    {
      "cell_type": "code",
      "metadata": {
        "id": "ho238womVPQu",
        "colab_type": "code",
        "colab": {}
      },
      "source": [
        "submission=test_df[['ID','overall']]\n",
        "submission.to_csv('outputNLP_tfidf_cv.csv', index=False)\n",
        "from google.colab import files\n",
        "files.download('outputNLP_tfidf_cv.csv')"
      ],
      "execution_count": 0,
      "outputs": []
    },
    {
      "cell_type": "code",
      "metadata": {
        "id": "6pijgYAHk_eo",
        "colab_type": "code",
        "colab": {}
      },
      "source": [
        ""
      ],
      "execution_count": 0,
      "outputs": []
    }
  ]
}